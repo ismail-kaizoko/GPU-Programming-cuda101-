{
  "nbformat": 4,
  "nbformat_minor": 0,
  "metadata": {
    "colab": {
      "provenance": []
    },
    "kernelspec": {
      "name": "python3",
      "display_name": "Python 3"
    },
    "accelerator": "GPU"
  },
  "cells": [
    {
      "cell_type": "code",
      "metadata": {
        "id": "x1CXQEp-FjsX",
        "colab": {
          "base_uri": "https://localhost:8080/"
        },
        "outputId": "28172139-9dee-4811-e523-7bdbe92c1cac"
      },
      "source": [
        "%%writefile saxpy.cu\n",
        "/*\n",
        " * GPU code of SAPXPY\n",
        " * Y = a.X + Y\n",
        " */\n",
        "\n",
        "#include <stdlib.h>\n",
        "#include <stdio.h>\n",
        "#include <cuda.h>\n",
        "#include <math.h>\n",
        "\n",
        "////////////////////////////////////////////////////////////////\n",
        "//     Vector initialization\n",
        "////////////////////////////////////////////////////////////////\n",
        "void init_tab(float *tab, int len, float val) {\n",
        "    for (int k=0; k<len; k++)\n",
        "      tab[k]= k + val;\n",
        "}\n",
        "\n",
        "void print_tab(const char *tab_name, float *tab, int len){\n",
        "   int k;\n",
        "   printf(\"\\n 10 first elements of %s: \\n\", tab_name);\n",
        "   for (k=0; k<10; k++)\n",
        "      printf(\"%.2f \", tab[k]);\n",
        "   printf(\"\\n 10 lasts : \\n\");\n",
        "   for (k=len-10; k<len; k++)\n",
        "      printf(\"%.2f \", tab[k]);\n",
        "   printf(\"\\n\");\n",
        "}\n",
        "\n",
        "\n",
        "\n",
        "////////////////////////////////////////////////////////////////\n",
        "//     SAXPY kernel\n",
        "////////////////////////////////////////////////////////////////\n",
        "__global__ void saxpy(float *tabX, float *tabY, int len, float a){\n",
        "   // TODO\n",
        "   int idx = blockIdx.x*blockDim.x + threadIdx.x;\n",
        "\n",
        "   if(idx < len)\n",
        "     tabY[idx] = a * tabX[idx] + tabY[idx];\n",
        "}\n",
        "\n",
        "\n",
        "\n",
        "\n",
        "////////////////////////////////////////////////////////////////\n",
        "//     Main program\n",
        "////////////////////////////////////////////////////////////////\n",
        "int main( int argc, char** argv){\n",
        "    float *tabX_d, *tabX_h;\n",
        "    float *tabY_d, * tabY_h;\n",
        "    int len = 1000;\n",
        "\n",
        "     /** Initialization of the grid **/\n",
        "    // TODO\n",
        "    int threadsPerBlock = 256;  // better be multiple of 32 to match the warp size\n",
        "    int blocksPerGrid = (len + threadsPerBlock - 1) / threadsPerBlock; // ceiling division\n",
        "\n",
        "    dim3 grid(blocksPerGrid);\n",
        "    dim3 block(threadsPerBlock);\n",
        "\n",
        "    /** Allocation in host memory **/\n",
        "    tabX_h = (float *) malloc(sizeof(float) * len);\n",
        "    init_tab(tabX_h, len , 0.);\n",
        "    //TODO - allocation and initialization of tabY_dh\n",
        "    tabY_h = (float *) malloc(sizeof(float) * len);\n",
        "    init_tab(tabY_h, len , 1.);\n",
        "\n",
        "     /** Allocation in device memory **/\n",
        "    cudaMalloc((void**) &tabX_d, sizeof(float) * len);\n",
        "    // TODO - allocation of tabY_d\n",
        "    cudaMalloc((void**) &tabY_d, sizeof(float) * len);\n",
        "\n",
        "\n",
        "     /** Pre-print of tabY **/\n",
        "    printf(\"Before computation \\n\");\n",
        "    print_tab(\"tabY_h\",tabY_h, len);\n",
        "\n",
        "\n",
        "\n",
        "    /** Transfer of data from host to device **/\n",
        "    // TODO\n",
        "    cudaMemcpy(tabX_d, tabX_h, sizeof(float) * len, cudaMemcpyHostToDevice);\n",
        "    cudaMemcpy(tabY_d, tabY_h, sizeof(float) * len, cudaMemcpyHostToDevice);\n",
        "\n",
        "    /** SaxPY kernel launching **/\n",
        "    //TODO\n",
        "    saxpy<<<grid, block>>>(tabX_d, tabY_d, len, 2.);\n",
        "\n",
        "    /** Transfer of the result from device to host **/\n",
        "    // TODO\n",
        "    cudaMemcpy(tabY_h, tabY_d, sizeof(float) * len, cudaMemcpyDeviceToHost);\n",
        "\n",
        "    /** Affichage du resultat **/\n",
        "    printf(\"After computation\\n\");\n",
        "    print_tab(\"tabY_h\", tabY_h, len);\n",
        "\n",
        "    /** Memory free **/\n",
        "    cudaFree(tabX_d); cudaFree(tabY_d);\n",
        "    free(tabX_h); free(tabY_h);\n",
        "\n",
        "    return EXIT_SUCCESS;\n",
        "}"
      ],
      "execution_count": 3,
      "outputs": [
        {
          "output_type": "stream",
          "name": "stdout",
          "text": [
            "Overwriting saxpy.cu\n"
          ]
        }
      ]
    },
    {
      "cell_type": "code",
      "source": [
        "! nvcc -arch=sm_75 saxpy.cu -o saxpy"
      ],
      "metadata": {
        "id": "UF-GcylqnMF9"
      },
      "execution_count": 4,
      "outputs": []
    },
    {
      "cell_type": "code",
      "source": [
        "! ./saxpy"
      ],
      "metadata": {
        "colab": {
          "base_uri": "https://localhost:8080/"
        },
        "id": "VC4QYWkfnTLQ",
        "outputId": "5c1e7022-0e20-442e-ec8b-4c8aa6aed761"
      },
      "execution_count": 5,
      "outputs": [
        {
          "output_type": "stream",
          "name": "stdout",
          "text": [
            "Before computation \n",
            "\n",
            " 10 first elements of tabY_h: \n",
            "1.00 2.00 3.00 4.00 5.00 6.00 7.00 8.00 9.00 10.00 \n",
            " 10 lasts : \n",
            "991.00 992.00 993.00 994.00 995.00 996.00 997.00 998.00 999.00 1000.00 \n",
            "After computation\n",
            "\n",
            " 10 first elements of tabY_h: \n",
            "1.00 4.00 7.00 10.00 13.00 16.00 19.00 22.00 25.00 28.00 \n",
            " 10 lasts : \n",
            "2971.00 2974.00 2977.00 2980.00 2983.00 2986.00 2989.00 2992.00 2995.00 2998.00 \n"
          ]
        }
      ]
    },
    {
      "cell_type": "code",
      "source": [],
      "metadata": {
        "id": "xqFexUmMDREZ"
      },
      "execution_count": null,
      "outputs": []
    }
  ]
}