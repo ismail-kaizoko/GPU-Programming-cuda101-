{
  "nbformat": 4,
  "nbformat_minor": 0,
  "metadata": {
    "colab": {
      "provenance": []
    },
    "kernelspec": {
      "name": "python3",
      "display_name": "Python 3"
    },
    "accelerator": "GPU"
  },
  "cells": [
    {
      "cell_type": "markdown",
      "metadata": {
        "id": "pumkepYMMsms"
      },
      "source": [
        "# Raw code"
      ]
    },
    {
      "cell_type": "code",
      "metadata": {
        "id": "BPJbeZDPyP8l",
        "colab": {
          "base_uri": "https://localhost:8080/"
        },
        "outputId": "b2eb8ada-29c3-49bf-e942-e21309e13bf9"
      },
      "source": [
        "%%writefile raw_add.cu\n",
        "#include <stdio.h>\n",
        "#include <stdlib.h>\n",
        "\n",
        "__global__ void add(int a, int b, int *res) {\n",
        "  *res = a + b;\n",
        "}\n",
        "\n",
        "\n",
        "int main() {\n",
        "  int res=0;\n",
        "  int *d_res = NULL;\n",
        "\n",
        "  // Launch add() kernel on GPU\n",
        "  add<<<1,1>>>(2, 2, d_res);\n",
        "\n",
        "  cudaMemcpy(&res, d_res, sizeof(int), cudaMemcpyDeviceToHost);\n",
        "  printf(\"2 + 2 = %d\\n\", res);\n",
        "\n",
        "  return EXIT_SUCCESS;\n",
        "}"
      ],
      "execution_count": null,
      "outputs": [
        {
          "output_type": "stream",
          "name": "stdout",
          "text": [
            "Writing raw_add.cu\n"
          ]
        }
      ]
    },
    {
      "cell_type": "code",
      "source": [
        "!nvcc -arch=sm_75 raw_add.cu -o raw_add"
      ],
      "metadata": {
        "id": "_9O0k9r8jrpy"
      },
      "execution_count": null,
      "outputs": []
    },
    {
      "cell_type": "code",
      "source": [
        "!./raw_add"
      ],
      "metadata": {
        "colab": {
          "base_uri": "https://localhost:8080/"
        },
        "id": "s23SzGZE8nVI",
        "outputId": "bec68061-3dd6-422e-b215-21f4a12f3f51"
      },
      "execution_count": null,
      "outputs": [
        {
          "output_type": "stream",
          "name": "stdout",
          "text": [
            "2 + 2 = 0\n"
          ]
        }
      ]
    },
    {
      "cell_type": "markdown",
      "source": [
        "# Debugging"
      ],
      "metadata": {
        "id": "-jnJMpwBq9nO"
      }
    },
    {
      "cell_type": "code",
      "source": [
        "%%writefile add.cu\n",
        "#include <stdio.h>\n",
        "#include <stdlib.h>\n",
        "\n",
        "__global__ void add(int a, int b, int *res) {\n",
        "  *res = a + b;\n",
        "}\n",
        "int main() {\n",
        "  int res=0;\n",
        "  int *d_res = NULL;\n",
        "\n",
        "  // Launch add() kernel on GPU\n",
        "  add<<<1,1>>>(2, 2, d_res);\n",
        "\n",
        "  cudaMemcpy(&res, d_res, sizeof(int), cudaMemcpyDeviceToHost);\n",
        "  printf(\"2 + 2 = %d\\n\", res);\n",
        "\n",
        "  return EXIT_SUCCESS;\n",
        "}"
      ],
      "metadata": {
        "colab": {
          "base_uri": "https://localhost:8080/"
        },
        "id": "tede2oIE68ao",
        "outputId": "4dd4f6c1-df9e-48ec-9518-8156a1c1225f"
      },
      "execution_count": null,
      "outputs": [
        {
          "output_type": "stream",
          "name": "stdout",
          "text": [
            "Overwriting add.cu\n"
          ]
        }
      ]
    },
    {
      "cell_type": "code",
      "source": [
        "! nvcc -arch=sm_75 -g -G add.cu -o add"
      ],
      "metadata": {
        "id": "Ic6RU__w9Z_Y"
      },
      "execution_count": null,
      "outputs": []
    },
    {
      "cell_type": "code",
      "source": [
        "%%writefile debug_instructions.txt\n",
        "\n",
        "set cuda api_failures stop\n",
        "catch throw\n",
        "r\n",
        "bt\n",
        "info locals\n",
        "thread 1\n",
        "bt"
      ],
      "metadata": {
        "colab": {
          "base_uri": "https://localhost:8080/"
        },
        "id": "enNGCLae-EPy",
        "outputId": "f7311179-c07b-4cc8-87e7-8a5dd506e47a"
      },
      "execution_count": null,
      "outputs": [
        {
          "output_type": "stream",
          "name": "stdout",
          "text": [
            "Overwriting debug_instructions.txt\n"
          ]
        }
      ]
    },
    {
      "cell_type": "code",
      "source": [
        "! cuda-gdb -batch -x debug_instructions.txt ./add"
      ],
      "metadata": {
        "colab": {
          "base_uri": "https://localhost:8080/"
        },
        "id": "M4i1d0EG--k2",
        "outputId": "0e0d20e1-46b4-48d6-d9bd-baabc305b95b"
      },
      "execution_count": null,
      "outputs": [
        {
          "output_type": "stream",
          "name": "stdout",
          "text": [
            "Catchpoint 1 (throw)\n",
            "[Thread debugging using libthread_db enabled]\n",
            "Using host libthread_db library \"/lib/x86_64-linux-gnu/libthread_db.so.1\".\n",
            "[New Thread 0x7ffff5fff000 (LWP 11870)]\n",
            "[New Thread 0x7ffff4bff000 (LWP 11871)]\n",
            "[Detaching after fork from child process 11872]\n",
            "[New Thread 0x7fffeefde000 (LWP 11877)]\n",
            "\n",
            "CUDA Exception: Warp Illegal Address\n",
            "The exception was triggered at PC 0x7fffc903fc30  add(int, int, int*)  (add.cu:5)\n",
            "\n",
            "Thread 1 \"add\" received signal CUDA_EXCEPTION_14, Warp Illegal Address.\n",
            "[Switching focus to CUDA kernel 0, grid 1, block (0,0,0), thread (0,0,0), device 0, sm 0, warp 0, lane 0]\n",
            "0x00007fffc903fc50 in add<<<(1,1,1),(1,1,1)>>> (a=2, b=2, res=0x0) at add.cu:6\n",
            "6\t}\n",
            "#0  0x00007fffc903fc50 in add<<<(1,1,1),(1,1,1)>>> (a=2, b=2, res=0x0) at add.cu:6\n",
            "No locals.\n",
            "[Switching to thread 1 (Thread 0x7ffff7d79000 (LWP 11866))]\n",
            "#0  0x00007ffff61ad970 in cudbgReportDriverApiError () from /usr/lib64-nvidia/libcuda.so.1\n",
            "#0  0x00007ffff61ad970 in cudbgReportDriverApiError () from /usr/lib64-nvidia/libcuda.so.1\n",
            "#1  0x00007ffff642b32b in ?? () from /usr/lib64-nvidia/libcuda.so.1\n",
            "#2  0x00007ffff4d54ba7 in ?? () from /usr/lib64-nvidia/libcudadebugger.so.1\n",
            "#3  0x00007ffff4d31b2e in ?? () from /usr/lib64-nvidia/libcudadebugger.so.1\n",
            "#4  0x00007ffff4d42fda in ?? () from /usr/lib64-nvidia/libcudadebugger.so.1\n",
            "#5  0x00007ffff4d280d7 in ?? () from /usr/lib64-nvidia/libcudadebugger.so.1\n",
            "#6  0x00007ffff4e9e526 in ?? () from /usr/lib64-nvidia/libcudadebugger.so.1\n",
            "#7  0x00007ffff6442066 in ?? () from /usr/lib64-nvidia/libcuda.so.1\n",
            "#8  0x00005555555c30ba in cudaMemcpy ()\n",
            "#9  0x000055555555eca9 in main () at /content/add.cu:14\n"
          ]
        }
      ]
    },
    {
      "cell_type": "markdown",
      "metadata": {
        "id": "Pc5oZhKdV4ik"
      },
      "source": [
        "# Code with error management"
      ]
    },
    {
      "cell_type": "code",
      "metadata": {
        "colab": {
          "base_uri": "https://localhost:8080/"
        },
        "id": "1J3RTPQ1WI6l",
        "outputId": "cc7185da-7cb0-44c7-ea94-cd47c1286057"
      },
      "source": [
        "%%writefile add.cu\n",
        "#include <stdio.h>\n",
        "#include <stdlib.h>\n",
        "\n",
        "__global__ void add(int a, int b, int *res) {\n",
        "  *res = a + b;\n",
        "}\n",
        "\n",
        "\n",
        "int main() {\n",
        "  int res=0;\n",
        "  int *d_res = NULL;\n",
        "  cudaError_t err;\n",
        "\n",
        "  // Launch add() kernel on GPU\n",
        "  add<<<1,1>>>(2, 2, d_res);\n",
        "  err = cudaPeekAtLastError();\n",
        "  if (err != cudaSuccess){\n",
        "      fprintf(stderr,\"GPUassert: add launch failed with the error : %s \\n\", cudaGetErrorString(err));\n",
        "      exit(err);\n",
        "   }\n",
        "  err = cudaDeviceSynchronize() ;\n",
        "  if (err != cudaSuccess){\n",
        "      fprintf(stderr,\"GPUassert: add execution failed with the error : %s \\n\", cudaGetErrorString(err));\n",
        "      exit(err);\n",
        "  }\n",
        "\n",
        "  err = cudaMemcpy(&res, d_res, sizeof(int), cudaMemcpyDeviceToHost);\n",
        "  if (err != cudaSuccess){\n",
        "      fprintf(stderr,\"GPUassert: cudaMemcpy failed with the error : %s \\n\", cudaGetErrorString(err));\n",
        "      exit(err);\n",
        "   }\n",
        "\n",
        "  printf(\"2 + 2 = %d\\n\", res);\n",
        "\n",
        "  return EXIT_SUCCESS;\n",
        "}"
      ],
      "execution_count": null,
      "outputs": [
        {
          "output_type": "stream",
          "name": "stdout",
          "text": [
            "Overwriting add.cu\n"
          ]
        }
      ]
    },
    {
      "cell_type": "code",
      "source": [
        "! nvcc -arch=sm_75 add.cu -o add"
      ],
      "metadata": {
        "id": "1s3iDAig9Q0o"
      },
      "execution_count": null,
      "outputs": []
    },
    {
      "cell_type": "code",
      "source": [
        "!./add"
      ],
      "metadata": {
        "colab": {
          "base_uri": "https://localhost:8080/"
        },
        "id": "zawOhWgM9jsI",
        "outputId": "35411b3f-4c83-4c6a-d2ea-fe9e68cb562b"
      },
      "execution_count": null,
      "outputs": [
        {
          "output_type": "stream",
          "name": "stdout",
          "text": [
            "GPUassert: add execution failed with the error : an illegal memory access was encountered \n"
          ]
        }
      ]
    },
    {
      "cell_type": "markdown",
      "metadata": {
        "id": "FMP8lcgGOzPX"
      },
      "source": [
        "# CUDA error management Utilities in a separate cell\n"
      ]
    },
    {
      "cell_type": "code",
      "metadata": {
        "colab": {
          "base_uri": "https://localhost:8080/"
        },
        "id": "rQg_K9pQPZXu",
        "outputId": "770ea40d-1254-4b1e-f135-7944fd71e35d"
      },
      "source": [
        "%%writefile cuda_stuff.cuh\n",
        "#include <stdio.h>\n",
        "#include <stdlib.h>\n",
        "#include <cuda.h>\n",
        "#include <cuda_runtime.h>\n",
        "\n",
        "#ifndef cuda_stuff_H\n",
        "#define cuda_stuff_H\n",
        "\n",
        "//MACRO TO DEBUG CUDA FUNCTIONS\n",
        "/** Error checking,\n",
        " *  taken from https://stackoverflow.com/questions/14038589/what-is-the-canonical-way-to-check-for-errors-using-the-cuda-runtime-api\n",
        " */\n",
        "#define gpuErrchk(ans) { gpuAssert((ans), __FILE__, __LINE__); }\n",
        "inline void gpuAssert(cudaError_t code, const char *file, int line, bool abort=true)\n",
        "{\n",
        "   if (code != cudaSuccess)\n",
        "   {\n",
        "      fprintf(stderr,\"GPUassert: %s %s %d\\n\", cudaGetErrorString(code), file, line);\n",
        "      if (abort) exit(code);\n",
        "   }\n",
        "}\n",
        "\n",
        "#endif\n"
      ],
      "execution_count": null,
      "outputs": [
        {
          "output_type": "stream",
          "name": "stdout",
          "text": [
            "Overwriting cuda_stuff.cuh\n"
          ]
        }
      ]
    },
    {
      "cell_type": "code",
      "metadata": {
        "colab": {
          "base_uri": "https://localhost:8080/"
        },
        "id": "BKpKvYVTPHhz",
        "outputId": "a7321060-828a-4e43-e8f5-c0ff855ef776"
      },
      "source": [
        "%%writefile addition.cu\n",
        "#include <stdio.h>\n",
        "#include <stdlib.h>\n",
        "\n",
        "#include \"cuda_stuff.cuh\"\n",
        "\n",
        "__global__ void add(int a, int b, int *res) {\n",
        "  *res = a + b;\n",
        "}\n",
        "\n",
        "\n",
        "int main() {\n",
        "  int res=0;\n",
        "  int *d_res = NULL;\n",
        "\n",
        "  // Launch add() kernel on GPU\n",
        "  add<<<1,1>>>(2, 2, d_res);\n",
        "  gpuErrchk( cudaPeekAtLastError() );\n",
        "  gpuErrchk( cudaDeviceSynchronize() );\n",
        "\n",
        "  gpuErrchk(cudaMemcpy(&res, d_res, sizeof(int), cudaMemcpyDeviceToHost));\n",
        "  printf(\"2 + 2 = %d\\n\", res);\n",
        "\n",
        "  return EXIT_SUCCESS;\n",
        "}"
      ],
      "execution_count": null,
      "outputs": [
        {
          "output_type": "stream",
          "name": "stdout",
          "text": [
            "Overwriting addition.cu\n"
          ]
        }
      ]
    },
    {
      "cell_type": "code",
      "metadata": {
        "id": "qxP2OLarwSmo"
      },
      "source": [
        "!nvcc -arch=sm_75 addition.cu -o addition"
      ],
      "execution_count": null,
      "outputs": []
    },
    {
      "cell_type": "code",
      "metadata": {
        "colab": {
          "base_uri": "https://localhost:8080/"
        },
        "id": "wcTDugXLViwU",
        "outputId": "3df987c5-09a1-4396-f298-98f32b264f1b"
      },
      "source": [
        "! ./addition"
      ],
      "execution_count": null,
      "outputs": [
        {
          "output_type": "stream",
          "name": "stdout",
          "text": [
            "GPUassert: an illegal memory access was encountered addition.cu 18\n"
          ]
        }
      ]
    },
    {
      "cell_type": "markdown",
      "source": [
        ">> Thanks to the Debbuging, we now know that we are trying to access an illegal memory adresse, we deduce naturally that we forgot to allocate memory with **cudaMalloc()**."
      ],
      "metadata": {
        "id": "Y_gh4kEU8WoC"
      }
    },
    {
      "cell_type": "code",
      "source": [],
      "metadata": {
        "id": "pd32-3ozyLuh"
      },
      "execution_count": null,
      "outputs": []
    }
  ]
}