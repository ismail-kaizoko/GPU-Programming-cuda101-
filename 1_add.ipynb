{
  "nbformat": 4,
  "nbformat_minor": 0,
  "metadata": {
    "colab": {
      "provenance": []
    },
    "kernelspec": {
      "name": "python3",
      "display_name": "Python 3"
    },
    "accelerator": "GPU"
  },
  "cells": [
    {
      "cell_type": "markdown",
      "metadata": {
        "id": "pumkepYMMsms"
      },
      "source": [
        "# Code"
      ]
    },
    {
      "cell_type": "code",
      "metadata": {
        "id": "BPJbeZDPyP8l",
        "colab": {
          "base_uri": "https://localhost:8080/"
        },
        "outputId": "99647777-c44e-4916-cd68-5a4e0fc2abe7"
      },
      "source": [
        "%%writefile add.cu\n",
        "#include <stdio.h>\n",
        "#include <stdlib.h>\n",
        "\n",
        "__global__ void add (int a, int b, int *res) {\n",
        "  *res = a + b;\n",
        "}\n",
        "\n",
        "int main() {\n",
        "  int res=10000;\n",
        "  int *d_res = NULL;\n",
        "\n",
        "  cudaMalloc((void**)&d_res, sizeof(int));\n",
        "\n",
        "  dim3 grid(1);\n",
        "  dim3 block(1);\n",
        "\n",
        "  // Launch add() kernel on GPU\n",
        "  add<<<grid,block>>>(2, 2, d_res);\n",
        "\n",
        "  printf(\"Avant cudaMemcpy - 2 + 2 = %d\\n\", res);\n",
        "  cudaMemcpy(&res, d_res, sizeof(int), cudaMemcpyDeviceToHost);\n",
        "  printf(\"Après cudaMemcpy - 2 + 2 = %d\\n\", res);\n",
        "\n",
        "  cudaFree(d_res);\n",
        "  return EXIT_SUCCESS;\n",
        "}"
      ],
      "execution_count": null,
      "outputs": [
        {
          "output_type": "stream",
          "name": "stdout",
          "text": [
            "Overwriting add.cu\n"
          ]
        }
      ]
    },
    {
      "cell_type": "code",
      "source": [
        "# ! nvcc add.cu -o add\n",
        "! nvcc -arch=sm_75 saxpy.cu -o saxpy"
      ],
      "metadata": {
        "id": "AlpCErni7uCi",
        "outputId": "25cc81e0-f69e-4ca3-9872-229c4fcc0451",
        "colab": {
          "base_uri": "https://localhost:8080/"
        }
      },
      "execution_count": null,
      "outputs": [
        {
          "output_type": "stream",
          "name": "stdout",
          "text": [
            "\u001b[01m\u001b[Kcc1plus:\u001b[m\u001b[K \u001b[01;31m\u001b[Kfatal error: \u001b[m\u001b[Ksaxpy.cu: No such file or directory\n",
            "compilation terminated.\n"
          ]
        }
      ]
    },
    {
      "cell_type": "code",
      "source": [
        "! ./add"
      ],
      "metadata": {
        "id": "2QsfTiJol1fo",
        "colab": {
          "base_uri": "https://localhost:8080/"
        },
        "outputId": "33724778-41d6-49bd-edbe-d1c598b45952"
      },
      "execution_count": null,
      "outputs": [
        {
          "output_type": "stream",
          "name": "stdout",
          "text": [
            "Avant cudaMemcpy - 2 + 2 = 10000\n",
            "Après cudaMemcpy - 2 + 2 = 4\n"
          ]
        }
      ]
    }
  ]
}